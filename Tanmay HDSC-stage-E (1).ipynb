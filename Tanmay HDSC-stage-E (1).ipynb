{
 "cells": [
  {
   "cell_type": "markdown",
   "metadata": {},
   "source": [
    "# Tanmay Bapu Chavan\n",
    "# Hamoye HDSC - Stage E"
   ]
  },
  {
   "cell_type": "markdown",
   "metadata": {},
   "source": [
    "# Practical Time Series Analysis & Forecast\n",
    "Objective - Build forecasting models for measurement of electricity of District given the total amount of Electricity consumed in that District from 2010 to 2021."
   ]
  },
  {
   "cell_type": "markdown",
   "metadata": {},
   "source": [
    "Data Set Information:\n",
    "The archive contains 92,016 measurements of electricity data gathered between September 2010 and February 2021.\n",
    "\n",
    "Attribute Information:\n",
    "\n",
    "FullDate: Date in format yyyy-mm-dd hh:mm:ss ElecPrice: Prices of electricity charged in Kw per hour Gas Price: power generated was done via a gas power plant, gas price is the price of gas at time-T SysLoad: Total Load on system or Power consumed at time-T Tmax: maximum temperature at time-T\n",
    "\n",
    "Notes:\n",
    "\n",
    "The dataset is sampled on an hourly basis. It has the following features.\n",
    "Link for the dataset : https://github.com/HamoyeHQ/HDSC-Time-series-analysis-and-forecast"
   ]
  },
  {
   "cell_type": "code",
   "execution_count": 1,
   "metadata": {
    "execution": {
     "iopub.execute_input": "2023-07-31T20:05:26.456900Z",
     "iopub.status.busy": "2023-07-31T20:05:26.456327Z",
     "iopub.status.idle": "2023-07-31T20:05:26.468012Z",
     "shell.execute_reply": "2023-07-31T20:05:26.467000Z",
     "shell.execute_reply.started": "2023-07-31T20:05:26.456865Z"
    }
   },
   "outputs": [],
   "source": [
    "import numpy as np\n",
    "import pandas as pd\n",
    "import seaborn as sns\n",
    "import matplotlib.pyplot as plt   \n",
    "%matplotlib inline\n",
    "from datetime import datetime"
   ]
  },
  {
   "cell_type": "code",
   "execution_count": 2,
   "metadata": {
    "execution": {
     "iopub.execute_input": "2023-07-31T20:05:26.475516Z",
     "iopub.status.busy": "2023-07-31T20:05:26.474757Z",
     "iopub.status.idle": "2023-07-31T20:05:28.085953Z",
     "shell.execute_reply": "2023-07-31T20:05:28.084594Z",
     "shell.execute_reply.started": "2023-07-31T20:05:26.475477Z"
    }
   },
   "outputs": [],
   "source": [
    "# Loading the dataset\n",
    "df = pd.read_csv('https://github.com/HamoyeHQ/HDSC-Time-series-analysis-and-forecast/files/7768846/Time_series_analysis_and_forecast_DATASET.csv')"
   ]
  },
  {
   "cell_type": "code",
   "execution_count": 3,
   "metadata": {
    "execution": {
     "iopub.execute_input": "2023-07-31T20:05:28.089284Z",
     "iopub.status.busy": "2023-07-31T20:05:28.088783Z",
     "iopub.status.idle": "2023-07-31T20:05:28.105607Z",
     "shell.execute_reply": "2023-07-31T20:05:28.103977Z",
     "shell.execute_reply.started": "2023-07-31T20:05:28.089232Z"
    }
   },
   "outputs": [
    {
     "data": {
      "text/html": [
       "<div>\n",
       "<style scoped>\n",
       "    .dataframe tbody tr th:only-of-type {\n",
       "        vertical-align: middle;\n",
       "    }\n",
       "\n",
       "    .dataframe tbody tr th {\n",
       "        vertical-align: top;\n",
       "    }\n",
       "\n",
       "    .dataframe thead th {\n",
       "        text-align: right;\n",
       "    }\n",
       "</style>\n",
       "<table border=\"1\" class=\"dataframe\">\n",
       "  <thead>\n",
       "    <tr style=\"text-align: right;\">\n",
       "      <th></th>\n",
       "      <th>FullDate</th>\n",
       "      <th>Tmax</th>\n",
       "      <th>SysLoad</th>\n",
       "      <th>GasPrice</th>\n",
       "      <th>ElecPrice</th>\n",
       "    </tr>\n",
       "  </thead>\n",
       "  <tbody>\n",
       "    <tr>\n",
       "      <th>0</th>\n",
       "      <td>2010-09-01 00:00:00</td>\n",
       "      <td>15.8</td>\n",
       "      <td>1688.215</td>\n",
       "      <td>3.69</td>\n",
       "      <td>23.710</td>\n",
       "    </tr>\n",
       "    <tr>\n",
       "      <th>1</th>\n",
       "      <td>2010-09-01 01:00:00</td>\n",
       "      <td>15.8</td>\n",
       "      <td>1669.195</td>\n",
       "      <td>3.69</td>\n",
       "      <td>22.635</td>\n",
       "    </tr>\n",
       "    <tr>\n",
       "      <th>2</th>\n",
       "      <td>2010-09-01 02:00:00</td>\n",
       "      <td>15.8</td>\n",
       "      <td>1491.980</td>\n",
       "      <td>3.69</td>\n",
       "      <td>22.565</td>\n",
       "    </tr>\n",
       "    <tr>\n",
       "      <th>3</th>\n",
       "      <td>2010-09-01 03:00:00</td>\n",
       "      <td>15.8</td>\n",
       "      <td>1330.760</td>\n",
       "      <td>3.69</td>\n",
       "      <td>18.910</td>\n",
       "    </tr>\n",
       "    <tr>\n",
       "      <th>4</th>\n",
       "      <td>2010-09-01 04:00:00</td>\n",
       "      <td>15.8</td>\n",
       "      <td>1247.940</td>\n",
       "      <td>3.69</td>\n",
       "      <td>18.030</td>\n",
       "    </tr>\n",
       "  </tbody>\n",
       "</table>\n",
       "</div>"
      ],
      "text/plain": [
       "              FullDate  Tmax   SysLoad  GasPrice  ElecPrice\n",
       "0  2010-09-01 00:00:00  15.8  1688.215      3.69     23.710\n",
       "1  2010-09-01 01:00:00  15.8  1669.195      3.69     22.635\n",
       "2  2010-09-01 02:00:00  15.8  1491.980      3.69     22.565\n",
       "3  2010-09-01 03:00:00  15.8  1330.760      3.69     18.910\n",
       "4  2010-09-01 04:00:00  15.8  1247.940      3.69     18.030"
      ]
     },
     "execution_count": 3,
     "metadata": {},
     "output_type": "execute_result"
    }
   ],
   "source": [
    "#dataset preview\n",
    "df.head()"
   ]
  },
  {
   "cell_type": "code",
   "execution_count": 4,
   "metadata": {
    "execution": {
     "iopub.execute_input": "2023-07-31T20:05:28.108399Z",
     "iopub.status.busy": "2023-07-31T20:05:28.106961Z",
     "iopub.status.idle": "2023-07-31T20:05:28.129014Z",
     "shell.execute_reply": "2023-07-31T20:05:28.127740Z",
     "shell.execute_reply.started": "2023-07-31T20:05:28.108357Z"
    }
   },
   "outputs": [
    {
     "data": {
      "text/plain": [
       "<bound method DataFrame.info of                   FullDate  Tmax     SysLoad  GasPrice  ElecPrice\n",
       "0      2010-09-01 00:00:00  15.8  1688.21500    3.6900     23.710\n",
       "1      2010-09-01 01:00:00  15.8  1669.19500    3.6900     22.635\n",
       "2      2010-09-01 02:00:00  15.8  1491.98000    3.6900     22.565\n",
       "3      2010-09-01 03:00:00  15.8  1330.76000    3.6900     18.910\n",
       "4      2010-09-01 04:00:00  15.8  1247.94000    3.6900     18.030\n",
       "...                    ...   ...         ...       ...        ...\n",
       "92011  2021-02-28 19:00:00  24.3   449.63625    5.4848    117.925\n",
       "92012  2021-02-28 20:00:00  24.3   815.59975    5.4848     87.880\n",
       "92013  2021-02-28 21:00:00  24.3   745.12325    5.4848     62.060\n",
       "92014  2021-02-28 22:00:00  24.3   694.95150    5.4848     62.000\n",
       "92015  2021-02-28 23:00:00  24.3   714.69630    5.4848     62.955\n",
       "\n",
       "[92016 rows x 5 columns]>"
      ]
     },
     "execution_count": 4,
     "metadata": {},
     "output_type": "execute_result"
    }
   ],
   "source": [
    "df.info"
   ]
  },
  {
   "cell_type": "code",
   "execution_count": 5,
   "metadata": {
    "execution": {
     "iopub.execute_input": "2023-07-31T20:05:28.132738Z",
     "iopub.status.busy": "2023-07-31T20:05:28.132246Z",
     "iopub.status.idle": "2023-07-31T20:05:28.150155Z",
     "shell.execute_reply": "2023-07-31T20:05:28.148234Z",
     "shell.execute_reply.started": "2023-07-31T20:05:28.132689Z"
    }
   },
   "outputs": [
    {
     "data": {
      "text/plain": [
       "(92016, 5)"
      ]
     },
     "execution_count": 5,
     "metadata": {},
     "output_type": "execute_result"
    }
   ],
   "source": [
    "df.shape"
   ]
  },
  {
   "cell_type": "code",
   "execution_count": 6,
   "metadata": {
    "execution": {
     "iopub.execute_input": "2023-07-31T20:05:28.154186Z",
     "iopub.status.busy": "2023-07-31T20:05:28.153803Z",
     "iopub.status.idle": "2023-07-31T20:05:28.168431Z",
     "shell.execute_reply": "2023-07-31T20:05:28.167160Z",
     "shell.execute_reply.started": "2023-07-31T20:05:28.154155Z"
    }
   },
   "outputs": [
    {
     "data": {
      "text/plain": [
       "FullDate      object\n",
       "Tmax         float64\n",
       "SysLoad      float64\n",
       "GasPrice     float64\n",
       "ElecPrice    float64\n",
       "dtype: object"
      ]
     },
     "execution_count": 6,
     "metadata": {},
     "output_type": "execute_result"
    }
   ],
   "source": [
    "df.dtypes"
   ]
  },
  {
   "cell_type": "code",
   "execution_count": 7,
   "metadata": {
    "execution": {
     "iopub.execute_input": "2023-07-31T20:05:28.171153Z",
     "iopub.status.busy": "2023-07-31T20:05:28.170284Z",
     "iopub.status.idle": "2023-07-31T20:05:28.217018Z",
     "shell.execute_reply": "2023-07-31T20:05:28.215705Z",
     "shell.execute_reply.started": "2023-07-31T20:05:28.171107Z"
    }
   },
   "outputs": [
    {
     "data": {
      "text/html": [
       "<div>\n",
       "<style scoped>\n",
       "    .dataframe tbody tr th:only-of-type {\n",
       "        vertical-align: middle;\n",
       "    }\n",
       "\n",
       "    .dataframe tbody tr th {\n",
       "        vertical-align: top;\n",
       "    }\n",
       "\n",
       "    .dataframe thead th {\n",
       "        text-align: right;\n",
       "    }\n",
       "</style>\n",
       "<table border=\"1\" class=\"dataframe\">\n",
       "  <thead>\n",
       "    <tr style=\"text-align: right;\">\n",
       "      <th></th>\n",
       "      <th>Tmax</th>\n",
       "      <th>SysLoad</th>\n",
       "      <th>GasPrice</th>\n",
       "      <th>ElecPrice</th>\n",
       "    </tr>\n",
       "  </thead>\n",
       "  <tbody>\n",
       "    <tr>\n",
       "      <th>count</th>\n",
       "      <td>92016.000000</td>\n",
       "      <td>92016.000000</td>\n",
       "      <td>92016.000000</td>\n",
       "      <td>92016.000000</td>\n",
       "    </tr>\n",
       "    <tr>\n",
       "      <th>mean</th>\n",
       "      <td>231.696688</td>\n",
       "      <td>797.623357</td>\n",
       "      <td>6.016163</td>\n",
       "      <td>65.798356</td>\n",
       "    </tr>\n",
       "    <tr>\n",
       "      <th>std</th>\n",
       "      <td>4562.128748</td>\n",
       "      <td>613.520156</td>\n",
       "      <td>2.608116</td>\n",
       "      <td>213.144084</td>\n",
       "    </tr>\n",
       "    <tr>\n",
       "      <th>min</th>\n",
       "      <td>9.900000</td>\n",
       "      <td>-1596.810100</td>\n",
       "      <td>0.000000</td>\n",
       "      <td>-924.820000</td>\n",
       "    </tr>\n",
       "    <tr>\n",
       "      <th>25%</th>\n",
       "      <td>17.300000</td>\n",
       "      <td>417.119800</td>\n",
       "      <td>3.936900</td>\n",
       "      <td>31.543750</td>\n",
       "    </tr>\n",
       "    <tr>\n",
       "      <th>50%</th>\n",
       "      <td>21.900000</td>\n",
       "      <td>856.467925</td>\n",
       "      <td>5.165600</td>\n",
       "      <td>48.715000</td>\n",
       "    </tr>\n",
       "    <tr>\n",
       "      <th>75%</th>\n",
       "      <td>27.600000</td>\n",
       "      <td>1221.293675</td>\n",
       "      <td>8.023300</td>\n",
       "      <td>76.495000</td>\n",
       "    </tr>\n",
       "    <tr>\n",
       "      <th>max</th>\n",
       "      <td>99999.900000</td>\n",
       "      <td>3264.166300</td>\n",
       "      <td>29.990000</td>\n",
       "      <td>14700.000000</td>\n",
       "    </tr>\n",
       "  </tbody>\n",
       "</table>\n",
       "</div>"
      ],
      "text/plain": [
       "               Tmax       SysLoad      GasPrice     ElecPrice\n",
       "count  92016.000000  92016.000000  92016.000000  92016.000000\n",
       "mean     231.696688    797.623357      6.016163     65.798356\n",
       "std     4562.128748    613.520156      2.608116    213.144084\n",
       "min        9.900000  -1596.810100      0.000000   -924.820000\n",
       "25%       17.300000    417.119800      3.936900     31.543750\n",
       "50%       21.900000    856.467925      5.165600     48.715000\n",
       "75%       27.600000   1221.293675      8.023300     76.495000\n",
       "max    99999.900000   3264.166300     29.990000  14700.000000"
      ]
     },
     "execution_count": 7,
     "metadata": {},
     "output_type": "execute_result"
    }
   ],
   "source": [
    "df.describe()"
   ]
  },
  {
   "cell_type": "code",
   "execution_count": 8,
   "metadata": {
    "execution": {
     "iopub.execute_input": "2023-07-31T20:05:28.218554Z",
     "iopub.status.busy": "2023-07-31T20:05:28.218223Z",
     "iopub.status.idle": "2023-07-31T20:05:28.260973Z",
     "shell.execute_reply": "2023-07-31T20:05:28.259574Z",
     "shell.execute_reply.started": "2023-07-31T20:05:28.218524Z"
    }
   },
   "outputs": [
    {
     "data": {
      "text/plain": [
       "FullDate     0\n",
       "Tmax         0\n",
       "SysLoad      0\n",
       "GasPrice     0\n",
       "ElecPrice    0\n",
       "dtype: int64"
      ]
     },
     "execution_count": 8,
     "metadata": {},
     "output_type": "execute_result"
    }
   ],
   "source": [
    "df.isnull().sum()"
   ]
  },
  {
   "cell_type": "markdown",
   "metadata": {},
   "source": [
    "We need to convert 'FullDate' to a time series object i.e convert to 'DateTime'"
   ]
  },
  {
   "cell_type": "code",
   "execution_count": 9,
   "metadata": {
    "execution": {
     "iopub.execute_input": "2023-07-31T20:05:28.263099Z",
     "iopub.status.busy": "2023-07-31T20:05:28.262773Z",
     "iopub.status.idle": "2023-07-31T20:05:28.308467Z",
     "shell.execute_reply": "2023-07-31T20:05:28.307414Z",
     "shell.execute_reply.started": "2023-07-31T20:05:28.263070Z"
    }
   },
   "outputs": [],
   "source": [
    "from datetime import datetime\n",
    "df['FullDate'] = pd.to_datetime(df.FullDate)"
   ]
  },
  {
   "cell_type": "markdown",
   "metadata": {},
   "source": [
    "Also renamaing the columns FullDate as 'ds'"
   ]
  },
  {
   "cell_type": "code",
   "execution_count": 10,
   "metadata": {
    "execution": {
     "iopub.execute_input": "2023-07-31T20:05:28.310400Z",
     "iopub.status.busy": "2023-07-31T20:05:28.310076Z",
     "iopub.status.idle": "2023-07-31T20:05:28.336505Z",
     "shell.execute_reply": "2023-07-31T20:05:28.335390Z",
     "shell.execute_reply.started": "2023-07-31T20:05:28.310363Z"
    }
   },
   "outputs": [
    {
     "data": {
      "text/html": [
       "<div>\n",
       "<style scoped>\n",
       "    .dataframe tbody tr th:only-of-type {\n",
       "        vertical-align: middle;\n",
       "    }\n",
       "\n",
       "    .dataframe tbody tr th {\n",
       "        vertical-align: top;\n",
       "    }\n",
       "\n",
       "    .dataframe thead th {\n",
       "        text-align: right;\n",
       "    }\n",
       "</style>\n",
       "<table border=\"1\" class=\"dataframe\">\n",
       "  <thead>\n",
       "    <tr style=\"text-align: right;\">\n",
       "      <th></th>\n",
       "      <th>Tmax</th>\n",
       "      <th>SysLoad</th>\n",
       "      <th>GasPrice</th>\n",
       "      <th>ElecPrice</th>\n",
       "    </tr>\n",
       "    <tr>\n",
       "      <th>ds</th>\n",
       "      <th></th>\n",
       "      <th></th>\n",
       "      <th></th>\n",
       "      <th></th>\n",
       "    </tr>\n",
       "  </thead>\n",
       "  <tbody>\n",
       "    <tr>\n",
       "      <th>2010-09-01 00:00:00</th>\n",
       "      <td>15.8</td>\n",
       "      <td>1688.215</td>\n",
       "      <td>3.69</td>\n",
       "      <td>23.710</td>\n",
       "    </tr>\n",
       "    <tr>\n",
       "      <th>2010-09-01 01:00:00</th>\n",
       "      <td>15.8</td>\n",
       "      <td>1669.195</td>\n",
       "      <td>3.69</td>\n",
       "      <td>22.635</td>\n",
       "    </tr>\n",
       "    <tr>\n",
       "      <th>2010-09-01 02:00:00</th>\n",
       "      <td>15.8</td>\n",
       "      <td>1491.980</td>\n",
       "      <td>3.69</td>\n",
       "      <td>22.565</td>\n",
       "    </tr>\n",
       "    <tr>\n",
       "      <th>2010-09-01 03:00:00</th>\n",
       "      <td>15.8</td>\n",
       "      <td>1330.760</td>\n",
       "      <td>3.69</td>\n",
       "      <td>18.910</td>\n",
       "    </tr>\n",
       "    <tr>\n",
       "      <th>2010-09-01 04:00:00</th>\n",
       "      <td>15.8</td>\n",
       "      <td>1247.940</td>\n",
       "      <td>3.69</td>\n",
       "      <td>18.030</td>\n",
       "    </tr>\n",
       "  </tbody>\n",
       "</table>\n",
       "</div>"
      ],
      "text/plain": [
       "                     Tmax   SysLoad  GasPrice  ElecPrice\n",
       "ds                                                      \n",
       "2010-09-01 00:00:00  15.8  1688.215      3.69     23.710\n",
       "2010-09-01 01:00:00  15.8  1669.195      3.69     22.635\n",
       "2010-09-01 02:00:00  15.8  1491.980      3.69     22.565\n",
       "2010-09-01 03:00:00  15.8  1330.760      3.69     18.910\n",
       "2010-09-01 04:00:00  15.8  1247.940      3.69     18.030"
      ]
     },
     "execution_count": 10,
     "metadata": {},
     "output_type": "execute_result"
    }
   ],
   "source": [
    "df = df.rename(columns={\"FullDate\" : \"ds\" }) \n",
    "df.set_index('ds', inplace=True)\n",
    "df.head()"
   ]
  },
  {
   "cell_type": "markdown",
   "metadata": {},
   "source": [
    "**Question 11**\n",
    "\n",
    "Resample the data from an hour sampling rate to a daily sampling rate (i.e sum over the hours for each day). Which of the following is a plot of ElecPrice over time? "
   ]
  },
  {
   "cell_type": "code",
   "execution_count": 11,
   "metadata": {
    "execution": {
     "iopub.execute_input": "2023-07-31T20:05:28.342936Z",
     "iopub.status.busy": "2023-07-31T20:05:28.341489Z",
     "iopub.status.idle": "2023-07-31T20:05:28.355893Z",
     "shell.execute_reply": "2023-07-31T20:05:28.354515Z",
     "shell.execute_reply.started": "2023-07-31T20:05:28.342898Z"
    }
   },
   "outputs": [],
   "source": [
    "df = df.resample('D').sum()"
   ]
  },
  {
   "cell_type": "code",
   "execution_count": 12,
   "metadata": {
    "execution": {
     "iopub.execute_input": "2023-07-31T20:05:28.358084Z",
     "iopub.status.busy": "2023-07-31T20:05:28.357738Z",
     "iopub.status.idle": "2023-07-31T20:05:28.692056Z",
     "shell.execute_reply": "2023-07-31T20:05:28.690774Z",
     "shell.execute_reply.started": "2023-07-31T20:05:28.358053Z"
    }
   },
   "outputs": [
    {
     "data": {
      "image/png": "[encoded data removed]",
      "text/plain": [
       "<Figure size 640x480 with 1 Axes>"
      ]
     },
     "metadata": {},
     "output_type": "display_data"
    }
   ],
   "source": [
    "plt.plot(df.index, df.ElecPrice, '--')\n",
    "plt.xlabel('DateTime')\n",
    "plt.ylabel('ElecPrice')\n",
    "plt.grid()\n",
    "plt.show()"
   ]
  },
  {
   "cell_type": "markdown",
   "metadata": {},
   "source": [
    "**Question 12**\n",
    "\n",
    "Using the Augmented Dicky Fuller test (ADF), what is the P-value of the SysLoad and GasPrice of the resampled Data set, to 6 decimal places?"
   ]
  },
  {
   "cell_type": "code",
   "execution_count": 13,
   "metadata": {
    "execution": {
     "iopub.execute_input": "2023-07-31T20:05:28.694501Z",
     "iopub.status.busy": "2023-07-31T20:05:28.694132Z",
     "iopub.status.idle": "2023-07-31T20:05:29.138201Z",
     "shell.execute_reply": "2023-07-31T20:05:29.136722Z",
     "shell.execute_reply.started": "2023-07-31T20:05:28.694469Z"
    }
   },
   "outputs": [
    {
     "name": "stdout",
     "output_type": "stream",
     "text": [
      "The p-value of SysLoad = : 0.004254\n",
      "The p-value of GasPrice =: 0.045027\n"
     ]
    }
   ],
   "source": [
    "from statsmodels.tsa.stattools import adfuller\n",
    "adf_test = adfuller(df['SysLoad'])\n",
    "print(f'The p-value of SysLoad = : {round(adf_test[1],6)}')\n",
    "\n",
    "adf_test = adfuller(df['GasPrice'])\n",
    "print(f'The p-value of GasPrice =: {round(adf_test[1],6)}')\n",
    "     "
   ]
  },
  {
   "cell_type": "markdown",
   "metadata": {},
   "source": [
    "**Question 13**\n",
    "\n",
    "Using the Augmented Dicky Fuller test (ADF) what are the 10% and 5% critical values of GasPrice and ElecPrice of the resampled Data set, to 4 decimal places?"
   ]
  },
  {
   "cell_type": "code",
   "execution_count": 14,
   "metadata": {
    "execution": {
     "iopub.execute_input": "2023-07-31T20:05:29.141532Z",
     "iopub.status.busy": "2023-07-31T20:05:29.140241Z",
     "iopub.status.idle": "2023-07-31T20:05:29.377265Z",
     "shell.execute_reply": "2023-07-31T20:05:29.375780Z",
     "shell.execute_reply.started": "2023-07-31T20:05:29.141469Z"
    }
   },
   "outputs": [
    {
     "name": "stdout",
     "output_type": "stream",
     "text": [
      "ElecPrice\n",
      "Augmented Dicky Fuller test result:  {-8.269053866873792}\n",
      "Critical Values:\n",
      "1% : -3.4321\n",
      "5% : -2.8623\n",
      "10% : -2.5672\n"
     ]
    }
   ],
   "source": [
    "#ElecPrice\n",
    "print('ElecPrice')\n",
    "adf_test = adfuller(df['ElecPrice'])\n",
    "print('Augmented Dicky Fuller test result: ',{adf_test[0]})\n",
    "print('Critical Values:')\n",
    "\n",
    "for a,b in adf_test[4].items():\n",
    " print(f'{a} : {round(b,4)}')"
   ]
  },
  {
   "cell_type": "code",
   "execution_count": 15,
   "metadata": {
    "execution": {
     "iopub.execute_input": "2023-07-31T20:05:29.380598Z",
     "iopub.status.busy": "2023-07-31T20:05:29.379322Z",
     "iopub.status.idle": "2023-07-31T20:05:29.616187Z",
     "shell.execute_reply": "2023-07-31T20:05:29.614691Z",
     "shell.execute_reply.started": "2023-07-31T20:05:29.380520Z"
    }
   },
   "outputs": [
    {
     "name": "stdout",
     "output_type": "stream",
     "text": [
      "GasPrice\n",
      "Augmented Dicky Fuller test result: {-2.902766697165175}\n",
      "Critical Values :\n",
      "1% : -3.4321\n",
      "5% : -2.8623\n",
      "10% : -2.5672\n"
     ]
    }
   ],
   "source": [
    "\n",
    "#GasPrice\n",
    "print('GasPrice')\n",
    "adf_test = adfuller(df['GasPrice'])\n",
    "print('Augmented Dicky Fuller test result:', {adf_test[0]})\n",
    "print('Critical Values :')\n",
    "\n",
    "for a, b in adf_test[4].items():\n",
    " print(f'{a} : {round(b,4)}')"
   ]
  },
  {
   "cell_type": "markdown",
   "metadata": {},
   "source": [
    "**Further Instructions (14-16)**\n",
    "\n",
    "Using the daily sampling rate (sum), divide the data into a train and test set. The first 2757 days is your train set and the last (x-2757) days is your test set. Where x is the length of the dataset. Use Facebook Prophet to train a Univariate time series model using the FullDate column as (‘dt’ or ‘ds’) and ElecPrice as ( ‘y’). Answer question 14 - 16"
   ]
  },
  {
   "cell_type": "code",
   "execution_count": 16,
   "metadata": {
    "execution": {
     "iopub.execute_input": "2023-07-31T20:05:29.619460Z",
     "iopub.status.busy": "2023-07-31T20:05:29.618201Z",
     "iopub.status.idle": "2023-07-31T20:05:29.650101Z",
     "shell.execute_reply": "2023-07-31T20:05:29.648478Z",
     "shell.execute_reply.started": "2023-07-31T20:05:29.619396Z"
    }
   },
   "outputs": [
    {
     "data": {
      "text/html": [
       "<div>\n",
       "<style scoped>\n",
       "    .dataframe tbody tr th:only-of-type {\n",
       "        vertical-align: middle;\n",
       "    }\n",
       "\n",
       "    .dataframe tbody tr th {\n",
       "        vertical-align: top;\n",
       "    }\n",
       "\n",
       "    .dataframe thead th {\n",
       "        text-align: right;\n",
       "    }\n",
       "</style>\n",
       "<table border=\"1\" class=\"dataframe\">\n",
       "  <thead>\n",
       "    <tr style=\"text-align: right;\">\n",
       "      <th></th>\n",
       "      <th>ds</th>\n",
       "      <th>Tmax</th>\n",
       "      <th>SysLoad</th>\n",
       "      <th>GasPrice</th>\n",
       "      <th>ElecPrice</th>\n",
       "    </tr>\n",
       "  </thead>\n",
       "  <tbody>\n",
       "    <tr>\n",
       "      <th>0</th>\n",
       "      <td>2010-09-01</td>\n",
       "      <td>379.2</td>\n",
       "      <td>41565.380</td>\n",
       "      <td>88.56</td>\n",
       "      <td>2751.700</td>\n",
       "    </tr>\n",
       "    <tr>\n",
       "      <th>1</th>\n",
       "      <td>2010-09-02</td>\n",
       "      <td>369.6</td>\n",
       "      <td>38898.990</td>\n",
       "      <td>88.56</td>\n",
       "      <td>570.810</td>\n",
       "    </tr>\n",
       "    <tr>\n",
       "      <th>2</th>\n",
       "      <td>2010-09-03</td>\n",
       "      <td>439.2</td>\n",
       "      <td>41665.760</td>\n",
       "      <td>106.80</td>\n",
       "      <td>504.975</td>\n",
       "    </tr>\n",
       "    <tr>\n",
       "      <th>3</th>\n",
       "      <td>2010-09-04</td>\n",
       "      <td>328.8</td>\n",
       "      <td>35638.085</td>\n",
       "      <td>81.36</td>\n",
       "      <td>502.275</td>\n",
       "    </tr>\n",
       "    <tr>\n",
       "      <th>4</th>\n",
       "      <td>2010-09-05</td>\n",
       "      <td>357.6</td>\n",
       "      <td>35611.410</td>\n",
       "      <td>106.80</td>\n",
       "      <td>500.555</td>\n",
       "    </tr>\n",
       "  </tbody>\n",
       "</table>\n",
       "</div>"
      ],
      "text/plain": [
       "          ds   Tmax    SysLoad  GasPrice  ElecPrice\n",
       "0 2010-09-01  379.2  41565.380     88.56   2751.700\n",
       "1 2010-09-02  369.6  38898.990     88.56    570.810\n",
       "2 2010-09-03  439.2  41665.760    106.80    504.975\n",
       "3 2010-09-04  328.8  35638.085     81.36    502.275\n",
       "4 2010-09-05  357.6  35611.410    106.80    500.555"
      ]
     },
     "execution_count": 16,
     "metadata": {},
     "output_type": "execute_result"
    }
   ],
   "source": [
    "df_daily = df.reset_index()\n",
    "df_daily.head()"
   ]
  },
  {
   "cell_type": "markdown",
   "metadata": {},
   "source": [
    "Creating a new dataframe 'df_model' to build a predictive model. For this we will select two colmns ds and ElecPrice"
   ]
  },
  {
   "cell_type": "code",
   "execution_count": 17,
   "metadata": {
    "execution": {
     "iopub.execute_input": "2023-07-31T20:05:29.653813Z",
     "iopub.status.busy": "2023-07-31T20:05:29.652332Z",
     "iopub.status.idle": "2023-07-31T20:05:29.664282Z",
     "shell.execute_reply": "2023-07-31T20:05:29.662719Z",
     "shell.execute_reply.started": "2023-07-31T20:05:29.653743Z"
    }
   },
   "outputs": [],
   "source": [
    "df_model = df_daily[['ds', 'ElecPrice']]"
   ]
  },
  {
   "cell_type": "markdown",
   "metadata": {},
   "source": [
    "Renaming the columns ElecPrice as 'y'.\n",
    "\n",
    "y is our target variable"
   ]
  },
  {
   "cell_type": "code",
   "execution_count": 18,
   "metadata": {
    "execution": {
     "iopub.execute_input": "2023-07-31T20:05:29.667951Z",
     "iopub.status.busy": "2023-07-31T20:05:29.666579Z",
     "iopub.status.idle": "2023-07-31T20:05:29.694653Z",
     "shell.execute_reply": "2023-07-31T20:05:29.692998Z",
     "shell.execute_reply.started": "2023-07-31T20:05:29.667879Z"
    }
   },
   "outputs": [
    {
     "data": {
      "text/html": [
       "<div>\n",
       "<style scoped>\n",
       "    .dataframe tbody tr th:only-of-type {\n",
       "        vertical-align: middle;\n",
       "    }\n",
       "\n",
       "    .dataframe tbody tr th {\n",
       "        vertical-align: top;\n",
       "    }\n",
       "\n",
       "    .dataframe thead th {\n",
       "        text-align: right;\n",
       "    }\n",
       "</style>\n",
       "<table border=\"1\" class=\"dataframe\">\n",
       "  <thead>\n",
       "    <tr style=\"text-align: right;\">\n",
       "      <th></th>\n",
       "      <th>ds</th>\n",
       "      <th>y</th>\n",
       "    </tr>\n",
       "  </thead>\n",
       "  <tbody>\n",
       "    <tr>\n",
       "      <th>0</th>\n",
       "      <td>2010-09-01</td>\n",
       "      <td>2751.700</td>\n",
       "    </tr>\n",
       "    <tr>\n",
       "      <th>1</th>\n",
       "      <td>2010-09-02</td>\n",
       "      <td>570.810</td>\n",
       "    </tr>\n",
       "    <tr>\n",
       "      <th>2</th>\n",
       "      <td>2010-09-03</td>\n",
       "      <td>504.975</td>\n",
       "    </tr>\n",
       "    <tr>\n",
       "      <th>3</th>\n",
       "      <td>2010-09-04</td>\n",
       "      <td>502.275</td>\n",
       "    </tr>\n",
       "    <tr>\n",
       "      <th>4</th>\n",
       "      <td>2010-09-05</td>\n",
       "      <td>500.555</td>\n",
       "    </tr>\n",
       "  </tbody>\n",
       "</table>\n",
       "</div>"
      ],
      "text/plain": [
       "          ds         y\n",
       "0 2010-09-01  2751.700\n",
       "1 2010-09-02   570.810\n",
       "2 2010-09-03   504.975\n",
       "3 2010-09-04   502.275\n",
       "4 2010-09-05   500.555"
      ]
     },
     "execution_count": 18,
     "metadata": {},
     "output_type": "execute_result"
    }
   ],
   "source": [
    "df_model = df_model.rename(columns={'FullDate':'ds', 'ElecPrice':'y'})\n",
    "df_model.head()"
   ]
  },
  {
   "cell_type": "markdown",
   "metadata": {},
   "source": [
    "Train-Test-Split process of data. Here the length of the dataset mentioned is 2757"
   ]
  },
  {
   "cell_type": "code",
   "execution_count": 19,
   "metadata": {
    "execution": {
     "iopub.execute_input": "2023-07-31T20:05:29.698572Z",
     "iopub.status.busy": "2023-07-31T20:05:29.697122Z",
     "iopub.status.idle": "2023-07-31T20:05:29.711692Z",
     "shell.execute_reply": "2023-07-31T20:05:29.709609Z",
     "shell.execute_reply.started": "2023-07-31T20:05:29.698490Z"
    }
   },
   "outputs": [
    {
     "name": "stdout",
     "output_type": "stream",
     "text": [
      "Training data shape (2757, 2)\n",
      "Testing data shape (1077, 2)\n"
     ]
    }
   ],
   "source": [
    "train = df_model[:2757]\n",
    "test = df_model[2757:]\n",
    "     \n",
    "print('Training data shape', train.shape)\n",
    "print('Testing data shape', test.shape)"
   ]
  },
  {
   "cell_type": "code",
   "execution_count": 20,
   "metadata": {
    "execution": {
     "iopub.execute_input": "2023-07-31T20:05:29.715959Z",
     "iopub.status.busy": "2023-07-31T20:05:29.714241Z",
     "iopub.status.idle": "2023-07-31T20:05:29.730903Z",
     "shell.execute_reply": "2023-07-31T20:05:29.729175Z",
     "shell.execute_reply.started": "2023-07-31T20:05:29.715891Z"
    }
   },
   "outputs": [],
   "source": [
    "train.reset_index(inplace=True)\n",
    "test.reset_index(inplace=True)"
   ]
  },
  {
   "cell_type": "markdown",
   "metadata": {},
   "source": [
    "**Using Facebook Prophet to train a Univariate time series model**"
   ]
  },
  {
   "cell_type": "code",
   "execution_count": 21,
   "metadata": {
    "execution": {
     "iopub.execute_input": "2023-07-31T20:05:29.733834Z",
     "iopub.status.busy": "2023-07-31T20:05:29.733018Z",
     "iopub.status.idle": "2023-07-31T20:05:29.777711Z",
     "shell.execute_reply": "2023-07-31T20:05:29.775529Z",
     "shell.execute_reply.started": "2023-07-31T20:05:29.733789Z"
    }
   },
   "outputs": [
    {
     "ename": "ModuleNotFoundError",
     "evalue": "No module named 'fbprophet'",
     "output_type": "error",
     "traceback": [
      "\u001b[1;31m---------------------------------------------------------------------------\u001b[0m",
      "\u001b[1;31mModuleNotFoundError\u001b[0m                       Traceback (most recent call last)",
      "Cell \u001b[1;32mIn[21], line 1\u001b[0m\n\u001b[1;32m----> 1\u001b[0m \u001b[38;5;28;01mfrom\u001b[39;00m \u001b[38;5;21;01mfbprophet\u001b[39;00m \u001b[38;5;28;01mimport\u001b[39;00m Prophet\n\u001b[0;32m      2\u001b[0m model \u001b[38;5;241m=\u001b[39m Prophet() \n\u001b[0;32m      3\u001b[0m model\u001b[38;5;241m.\u001b[39mfit(train[[\u001b[38;5;124m'\u001b[39m\u001b[38;5;124mds\u001b[39m\u001b[38;5;124m'\u001b[39m, \u001b[38;5;124m'\u001b[39m\u001b[38;5;124my\u001b[39m\u001b[38;5;124m'\u001b[39m]])\n",
      "\u001b[1;31mModuleNotFoundError\u001b[0m: No module named 'fbprophet'"
     ]
    }
   ],
   "source": [
    "from fbprophet import Prophet\n",
    "model = Prophet() \n",
    "model.fit(train[['ds', 'y']])"
   ]
  },
  {
   "cell_type": "markdown",
   "metadata": {},
   "source": [
    "test_pred = test[['ds']]\n",
    "forecast = model.predict(test_pred)\n",
    "forecast.head()"
   ]
  },
  {
   "cell_type": "markdown",
   "metadata": {},
   "source": [
    "**QUESTION 14**\n",
    "\n",
    "Evaluating the results of your time series model on the test set, what is the MAPE (in %) in 2 decimal places? Hint:\n",
    "\n",
    "Define a function that calculates the Mape using the definition of MAPE from the course Module and pass your dataset into it."
   ]
  },
  {
   "cell_type": "code",
   "execution_count": null,
   "metadata": {
    "execution": {
     "iopub.status.busy": "2023-07-31T20:05:29.778991Z",
     "iopub.status.idle": "2023-07-31T20:05:29.780197Z",
     "shell.execute_reply": "2023-07-31T20:05:29.779934Z",
     "shell.execute_reply.started": "2023-07-31T20:05:29.779903Z"
    }
   },
   "outputs": [],
   "source": [
    "\n",
    "from sklearn.metrics import mean_absolute_percentage_error\n",
    "\n",
    "mape = mean_absolute_percentage_error(test.y, forecast.yhat) * 100\n",
    "print(\"The MAPE is :\",round(mape,2))"
   ]
  },
  {
   "cell_type": "markdown",
   "metadata": {},
   "source": [
    "Question 15\n",
    "\n",
    "What is the RMSE in 2 decimal places?"
   ]
  },
  {
   "cell_type": "code",
   "execution_count": null,
   "metadata": {
    "execution": {
     "iopub.status.busy": "2023-07-31T20:05:29.781949Z",
     "iopub.status.idle": "2023-07-31T20:05:29.783313Z",
     "shell.execute_reply": "2023-07-31T20:05:29.783080Z",
     "shell.execute_reply.started": "2023-07-31T20:05:29.783054Z"
    }
   },
   "outputs": [],
   "source": [
    "\n",
    "from sklearn.metrics import mean_squared_error\n",
    "from math import sqrt\n",
    "\n",
    "rms = sqrt(mean_squared_error(test.y, forecast.yhat))\n",
    "print(\"The MAPE is :\", round(rms,2))"
   ]
  },
  {
   "cell_type": "markdown",
   "metadata": {},
   "source": [
    "\n",
    "Question 16\n",
    "\n",
    "If you plot the components from the forecasted model, what month of the yearly seasonality has the highest value?"
   ]
  },
  {
   "cell_type": "code",
   "execution_count": null,
   "metadata": {
    "execution": {
     "iopub.status.busy": "2023-07-31T20:05:29.784696Z",
     "iopub.status.idle": "2023-07-31T20:05:29.785090Z",
     "shell.execute_reply": "2023-07-31T20:05:29.784923Z",
     "shell.execute_reply.started": "2023-07-31T20:05:29.784905Z"
    }
   },
   "outputs": [],
   "source": [
    "\n",
    "model.plot_components(forecast)\n",
    "plt.show()"
   ]
  },
  {
   "cell_type": "markdown",
   "metadata": {},
   "source": [
    "Further Instructions (17-19)\n",
    "Multivariate Time Series Forecasting with Facebook Prophet\n",
    "\n",
    "In the last exercise, we used only the dependent variable (ElecPrice) and the time component for our modeling (ds vs y). Next, we will build a time series model using the other variables. These variables will be added to the forecast model as a regressor on Facebook Prophet. So the 3 independent variables [‘SysLoad’,’Tmax’,’GasPrice’'] will be [‘add1’, ‘add2’, ‘add3’’] as the regressors. Split the data into train and test as done above and build a multivariate forecast model to forecast the last x-2757 days of ElecPrice. Answer question 17-19:"
   ]
  },
  {
   "cell_type": "code",
   "execution_count": null,
   "metadata": {
    "execution": {
     "iopub.status.busy": "2023-07-31T20:05:29.786250Z",
     "iopub.status.idle": "2023-07-31T20:05:29.786630Z",
     "shell.execute_reply": "2023-07-31T20:05:29.786460Z",
     "shell.execute_reply.started": "2023-07-31T20:05:29.786442Z"
    }
   },
   "outputs": [],
   "source": [
    "df_daily.head()"
   ]
  },
  {
   "cell_type": "code",
   "execution_count": null,
   "metadata": {
    "execution": {
     "iopub.status.busy": "2023-07-31T20:05:29.787861Z",
     "iopub.status.idle": "2023-07-31T20:05:29.788262Z",
     "shell.execute_reply": "2023-07-31T20:05:29.788070Z",
     "shell.execute_reply.started": "2023-07-31T20:05:29.788053Z"
    }
   },
   "outputs": [],
   "source": [
    "df_daily.rename(columns = {'FullDate':'ds', 'ElecPrice':'y'}, inplace = True)"
   ]
  },
  {
   "cell_type": "code",
   "execution_count": null,
   "metadata": {
    "execution": {
     "iopub.status.busy": "2023-07-31T20:05:29.789453Z",
     "iopub.status.idle": "2023-07-31T20:05:29.789876Z",
     "shell.execute_reply": "2023-07-31T20:05:29.789684Z",
     "shell.execute_reply.started": "2023-07-31T20:05:29.789662Z"
    }
   },
   "outputs": [],
   "source": [
    "df_train = df_daily[['ds', 'SysLoad', 'Tmax', 'GasPrice', 'y']]"
   ]
  },
  {
   "cell_type": "code",
   "execution_count": null,
   "metadata": {
    "execution": {
     "iopub.status.busy": "2023-07-31T20:05:29.790856Z",
     "iopub.status.idle": "2023-07-31T20:05:29.791229Z",
     "shell.execute_reply": "2023-07-31T20:05:29.791055Z",
     "shell.execute_reply.started": "2023-07-31T20:05:29.791038Z"
    }
   },
   "outputs": [],
   "source": [
    "# assign train and test data\n",
    "train1 = df_train[:2757]\n",
    "test1 = df_train[2757:]"
   ]
  },
  {
   "cell_type": "code",
   "execution_count": null,
   "metadata": {
    "execution": {
     "iopub.status.busy": "2023-07-31T20:05:29.793918Z",
     "iopub.status.idle": "2023-07-31T20:05:29.794311Z",
     "shell.execute_reply": "2023-07-31T20:05:29.794141Z",
     "shell.execute_reply.started": "2023-07-31T20:05:29.794122Z"
    }
   },
   "outputs": [],
   "source": [
    "df_test_pred = test1[['ds', 'SysLoad', 'Tmax', 'GasPrice']]\n",
    "forecast2 = model2.predict(df_test_pred)"
   ]
  },
  {
   "cell_type": "markdown",
   "metadata": {},
   "source": [
    "Question 17\n",
    "\n",
    "Evaluating the results of your time series model on the test set, what is the MAPE (in %) in 2 decimal places?"
   ]
  },
  {
   "cell_type": "code",
   "execution_count": null,
   "metadata": {
    "execution": {
     "iopub.status.busy": "2023-07-31T20:05:29.795545Z",
     "iopub.status.idle": "2023-07-31T20:05:29.796403Z",
     "shell.execute_reply": "2023-07-31T20:05:29.796194Z",
     "shell.execute_reply.started": "2023-07-31T20:05:29.796171Z"
    }
   },
   "outputs": [],
   "source": [
    "\n",
    "from sklearn.metrics import mean_absolute_percentage_error\n",
    "\n",
    "mape1 = mean_absolute_percentage_error(test1.y, forecast2.yhat) * 100\n",
    "round(mape1,2)"
   ]
  },
  {
   "cell_type": "markdown",
   "metadata": {},
   "source": [
    "What is the RMSE in 2 decimal places?"
   ]
  },
  {
   "cell_type": "code",
   "execution_count": null,
   "metadata": {
    "execution": {
     "iopub.status.busy": "2023-07-31T20:05:29.797670Z",
     "iopub.status.idle": "2023-07-31T20:05:29.798043Z",
     "shell.execute_reply": "2023-07-31T20:05:29.797881Z",
     "shell.execute_reply.started": "2023-07-31T20:05:29.797864Z"
    }
   },
   "outputs": [],
   "source": [
    "from sklearn.metrics import mean_squared_error\n",
    "from math import sqrt\n",
    "\n",
    "rms = sqrt(mean_squared_error(test1.y, forecast2.yhat))\n",
    "round(rms,2)"
   ]
  },
  {
   "cell_type": "code",
   "execution_count": null,
   "metadata": {
    "execution": {
     "iopub.status.busy": "2023-07-31T20:05:29.799326Z",
     "iopub.status.idle": "2023-07-31T20:05:29.800039Z",
     "shell.execute_reply": "2023-07-31T20:05:29.799859Z",
     "shell.execute_reply.started": "2023-07-31T20:05:29.799837Z"
    }
   },
   "outputs": [],
   "source": [
    "model2.plot_components(forecast2)\n",
    "plt.show()"
   ]
  }
 ],
 "metadata": {
  "kernelspec": {
   "display_name": "Python 3 (ipykernel)",
   "language": "python",
   "name": "python3"
  },
  "language_info": {
   "codemirror_mode": {
    "name": "ipython",
    "version": 3
   },
   "file_extension": ".py",
   "mimetype": "text/x-python",
   "name": "python",
   "nbconvert_exporter": "python",
   "pygments_lexer": "ipython3",
   "version": "3.11.4"
  }
 },
 "nbformat": 4,
 "nbformat_minor": 4
}
